{
 "cells": [
  {
   "cell_type": "code",
   "execution_count": 1,
   "metadata": {},
   "outputs": [
    {
     "name": "stdout",
     "output_type": "stream",
     "text": [
      "Hello, Python!\n"
     ]
    }
   ],
   "source": [
    "#1\n",
    "print('Hello, Python!')"
   ]
  },
  {
   "cell_type": "code",
   "execution_count": 2,
   "metadata": {},
   "outputs": [
    {
     "name": "stdout",
     "output_type": "stream",
     "text": [
      "Привет, Python!\n",
      "Hello, Python!\n",
      "Bonjour Python!\n",
      "Hej, Python!\n",
      "Hola, Python!\n"
     ]
    }
   ],
   "source": [
    "#2\n",
    "print('Привет, Python!')\n",
    "print('Hello, Python!')\n",
    "print('Bonjour Python!')\n",
    "print('Hej, Python!')\n",
    "print('Hola, Python!')"
   ]
  },
  {
   "cell_type": "code",
   "execution_count": null,
   "metadata": {},
   "outputs": [
    {
     "name": "stdout",
     "output_type": "stream",
     "text": [
      "Привет Python!\n"
     ]
    }
   ],
   "source": [
    "#3\n",
    "print('Привет', 'Python!', sep='\\n')"
   ]
  },
  {
   "cell_type": "code",
   "execution_count": 16,
   "metadata": {},
   "outputs": [
    {
     "name": "stdout",
     "output_type": "stream",
     "text": [
      "(\\___/)\n",
      "(='.'=)\n",
      "(\")_(\")\n"
     ]
    }
   ],
   "source": [
    "#4\n",
    "print(chr(40)+chr(92)+chr(95)*3+chr(47)+chr(41))\n",
    "print(chr(40)+chr(61)+chr(39)+chr(46)+chr(39)+chr(61)+chr(41))\n",
    "print(chr(40)+chr(34)+chr(41)+chr(95)+chr(40)+chr(34)+chr(41))"
   ]
  },
  {
   "cell_type": "code",
   "execution_count": 31,
   "metadata": {},
   "outputs": [
    {
     "name": "stdout",
     "output_type": "stream",
     "text": [
      "Привет, Python!\n",
      "Hello, Python!\n",
      "Bonjour Python!\n",
      "Hej, Python!\n",
      "Hola, Python!\n"
     ]
    }
   ],
   "source": [
    "#5\n",
    "print('\\n'.join(['Привет, Python!','Hello, Python!','Bonjour Python!','Hej, Python!','Hola, Python!']))"
   ]
  },
  {
   "cell_type": "code",
   "execution_count": null,
   "metadata": {},
   "outputs": [
    {
     "name": "stdout",
     "output_type": "stream",
     "text": [
      "Здравствуйте, Максим\n"
     ]
    }
   ],
   "source": [
    "#6\n",
    "name = input(\"Как Вас зовут?\")\n",
    "print(f\"Здравствуйте, {name}\")"
   ]
  },
  {
   "cell_type": "code",
   "execution_count": null,
   "metadata": {},
   "outputs": [
    {
     "name": "stdout",
     "output_type": "stream",
     "text": [
      "Здравствуйте, Илья\n",
      "Отлично! Спорт - хорошее увлечение.\n"
     ]
    }
   ],
   "source": [
    "#7\n",
    "name = input(\"Как Вас зовут?\")\n",
    "print(f\"Здравствуйте, {name}\")\n",
    "hobby = input(\"Что Вам нравится?\")\n",
    "print(f\"Отлично! {hobby} - хорошее увлечение.\")"
   ]
  },
  {
   "cell_type": "code",
   "execution_count": null,
   "metadata": {},
   "outputs": [
    {
     "name": "stdout",
     "output_type": "stream",
     "text": [
      "User durov has changed the password to querty\n"
     ]
    }
   ],
   "source": [
    "#8\n",
    "login = 'durov'\n",
    "password = '12345'\n",
    "if input(\"Login:\")==login and input(\"Password:\")==password:\n",
    "    new_password = input(\"New password:\")\n",
    "    print(f\"User {login} has changed the password to {new_password}\")\n",
    "else:\n",
    "    print(\"Login or password in not correct\")"
   ]
  },
  {
   "cell_type": "code",
   "execution_count": 12,
   "metadata": {},
   "outputs": [
    {
     "name": "stdout",
     "output_type": "stream",
     "text": [
      "Haddaway - What Is Love\n",
      "E-Type - Angels Crying\n",
      "Bad Boys Blue - You're AWoman\n",
      "No Doubt - Dont Speak\n",
      "Ace Of Base - All That She Wants\n"
     ]
    }
   ],
   "source": [
    "#9\n",
    "playlist_dad = [input() for _ in range(5)]\n",
    "playlist_mam = list(reversed(playlist_dad))\n",
    "\n",
    "for song in playlist_mam:\n",
    "    print(song)"
   ]
  },
  {
   "cell_type": "code",
   "execution_count": null,
   "metadata": {},
   "outputs": [
    {
     "name": "stdout",
     "output_type": "stream",
     "text": [
      "Заканчивается посадка на рейс 174 авиакомпании S7 до Москвы\n",
      "This is the final boarding call for S7 Airlines flight 174 to Moscow\n"
     ]
    }
   ],
   "source": [
    "#10\n",
    "flight_number = input(\"номер рейса:\")\n",
    "name_airline_russia = input(\"название авиакомпании (на русском):\")\n",
    "name_airline_english = input(\"название авиакомпании (на английском):\")\n",
    "arrival_city_russia = input(\"город прилета (на русском):\")\n",
    "arrival_city_english = input(\"город прилета (на английском):\")\n",
    "\n",
    "print(f\"Заканчивается посадка на рейс {flight_number} {name_airline_russia} до {arrival_city_russia}\")\n",
    "print(f\"This is the final boarding call for {name_airline_english} flight {flight_number} to {arrival_city_english}\")"
   ]
  },
  {
   "cell_type": "code",
   "execution_count": 14,
   "metadata": {},
   "outputs": [
    {
     "name": "stdout",
     "output_type": "stream",
     "text": [
      "Привет, Маша!\n"
     ]
    }
   ],
   "source": [
    "#11\n",
    "name = input(\"Как Вас зовут?\")\n",
    "print(f\"Привет, {name}!\")"
   ]
  },
  {
   "cell_type": "code",
   "execution_count": 20,
   "metadata": {},
   "outputs": [
    {
     "name": "stdout",
     "output_type": "stream",
     "text": [
      "136\n"
     ]
    }
   ],
   "source": [
    "#12\n",
    "total_cost = int(input(\"Какая общая стоимость часов, проданных мастером?\"))\n",
    "quantity_silver_clock = 96\n",
    "quantity_gold_clock = quantity_silver_clock//16\n",
    "silver_clock_price = 48\n",
    "print((total_cost - silver_clock_price * quantity_silver_clock)//quantity_gold_clock)"
   ]
  },
  {
   "cell_type": "code",
   "execution_count": 35,
   "metadata": {},
   "outputs": [
    {
     "name": "stdout",
     "output_type": "stream",
     "text": [
      "Площадь покрываемой территории: 453391.51017342537\n"
     ]
    }
   ],
   "source": [
    "#13\n",
    "import math\n",
    "value_1 , value_2 = int(input()) , int(input())\n",
    "radius_blind_zone = min(value_1, value_2)\n",
    "radius_distance_receiving = max(value_1, value_2)\n",
    "\n",
    "print(f\"Площадь покрываемой территории: {math.pi*(radius_distance_receiving**2 - radius_blind_zone**2)}\")"
   ]
  },
  {
   "cell_type": "code",
   "execution_count": 1,
   "metadata": {},
   "outputs": [
    {
     "name": "stdout",
     "output_type": "stream",
     "text": [
      "6\n"
     ]
    }
   ],
   "source": [
    "#14\n",
    "number = int(input())\n",
    "#before optimization: ((number+2)*3-6)/3-4}\n",
    "#after optimization: number-4\n",
    "print(number-4)"
   ]
  },
  {
   "cell_type": "code",
   "execution_count": 40,
   "metadata": {},
   "outputs": [
    {
     "name": "stdout",
     "output_type": "stream",
     "text": [
      "3520.0 ярдов\n",
      "2.0 мили\n",
      "10560.0 футов\n",
      "126720.0 дюймов\n"
     ]
    }
   ],
   "source": [
    "#15\n",
    "cm = float(input())\n",
    "print(f\"{cm/2.54/12/3} ярдов\")\n",
    "print(f\"{cm/2.54/12/3/1760} мили\")\n",
    "print(f\"{cm/2.54/12} футов\")\n",
    "print(f\"{cm/2.54} дюймов\")"
   ]
  }
 ],
 "metadata": {
  "kernelspec": {
   "display_name": "Python 3",
   "language": "python",
   "name": "python3"
  },
  "language_info": {
   "codemirror_mode": {
    "name": "ipython",
    "version": 3
   },
   "file_extension": ".py",
   "mimetype": "text/x-python",
   "name": "python",
   "nbconvert_exporter": "python",
   "pygments_lexer": "ipython3",
   "version": "3.11.0"
  }
 },
 "nbformat": 4,
 "nbformat_minor": 2
}
