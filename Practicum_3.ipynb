{
 "cells": [
  {
   "cell_type": "code",
   "execution_count": 1,
   "metadata": {},
   "outputs": [
    {
     "name": "stdout",
     "output_type": "stream",
     "text": [
      "7\n"
     ]
    }
   ],
   "source": [
    "#1\n",
    "print(str(int(input()))[-3])"
   ]
  },
  {
   "cell_type": "code",
   "execution_count": 2,
   "metadata": {},
   "outputs": [
    {
     "name": "stdout",
     "output_type": "stream",
     "text": [
      "19 часов 26 минут 40 секунд\n"
     ]
    }
   ],
   "source": [
    "#2\n",
    "time=int(input())\n",
    "hours = time//3600\n",
    "minutes = (time - hours*3600)//60\n",
    "seconds = time - hours*3600 - minutes*60\n",
    "print(f'{hours} часов {minutes} минут {seconds} секунд')"
   ]
  },
  {
   "cell_type": "code",
   "execution_count": 3,
   "metadata": {},
   "outputs": [
    {
     "name": "stdout",
     "output_type": "stream",
     "text": [
      "1\n"
     ]
    }
   ],
   "source": [
    "#3\n",
    "n=int(input())\n",
    "print(0) if n%2==0 else print(1)"
   ]
  },
  {
   "cell_type": "code",
   "execution_count": 4,
   "metadata": {},
   "outputs": [
    {
     "name": "stdout",
     "output_type": "stream",
     "text": [
      "5188 руб. 50 коп.\n"
     ]
    }
   ],
   "source": [
    "#4\n",
    "line = input().split()\n",
    "x, y, n = int(line[0]), int(line[1]), int(line[2])\n",
    "rub = x*n + (y*n)//100\n",
    "print(f'{rub} руб. {y*n - ((y*n)//100)*100} коп.')"
   ]
  },
  {
   "cell_type": "code",
   "execution_count": 5,
   "metadata": {},
   "outputs": [
    {
     "name": "stdout",
     "output_type": "stream",
     "text": [
      "(\\___/) (\\___/) (\\___/) (\\___/) (\\___/) \n",
      "(='.'=) (='.'=) (='.'=) (='.'=) (='.'=) \n",
      "(\")_(\") (\")_(\") (\")_(\") (\")_(\") (\")_(\") "
     ]
    }
   ],
   "source": [
    "#5\n",
    "n=int(input())\n",
    "\n",
    "for i in range(n):\n",
    "    print((chr(40)+chr(92)+chr(95)*3+chr(47)+chr(41)), end=' ')\n",
    "print()\n",
    "\n",
    "for j in range(n):\n",
    "    print((chr(40)+chr(61)+chr(39)+chr(46)+chr(39)+chr(61)+chr(41)), end=' ')\n",
    "print()\n",
    "\n",
    "for k in range(n):\n",
    "    print((chr(40)+chr(34)+chr(41)+chr(95)+chr(40)+chr(34)+chr(41)), end=' ')"
   ]
  },
  {
   "cell_type": "code",
   "execution_count": 6,
   "metadata": {},
   "outputs": [
    {
     "name": "stdout",
     "output_type": "stream",
     "text": [
      "5555555555\n"
     ]
    }
   ],
   "source": [
    "#6\n",
    "k, n, r = int(input()), int(input()), int(input())\n",
    "print(int(str(k)*n)*r)"
   ]
  },
  {
   "cell_type": "code",
   "execution_count": 7,
   "metadata": {},
   "outputs": [
    {
     "name": "stdout",
     "output_type": "stream",
     "text": [
      "\n"
     ]
    }
   ],
   "source": [
    "#7\n",
    "raw = input('Enter number:')\n",
    "try:\n",
    "    num = int(raw)\n",
    "    print(num)\n",
    "except:\n",
    "    print('')"
   ]
  },
  {
   "cell_type": "code",
   "execution_count": 8,
   "metadata": {},
   "outputs": [
    {
     "name": "stdout",
     "output_type": "stream",
     "text": [
      "53.13010235415599\n",
      "90.0\n",
      "36.86989764584401\n"
     ]
    }
   ],
   "source": [
    "#8\n",
    "import math \n",
    "\n",
    "a, b, c = int(input()), int(input()), int(input())\n",
    "print(math.degrees(math.acos((a**2 + c**2 - b**2) / (2 * a * c))))\n",
    "print(math.degrees(math.acos((a**2 + b**2 - c**2) / (2 * a * b))))\n",
    "print(math.degrees(math.acos((b**2 + c**2 - a**2) / (2 * c * b))))"
   ]
  },
  {
   "cell_type": "code",
   "execution_count": 9,
   "metadata": {},
   "outputs": [
    {
     "name": "stdout",
     "output_type": "stream",
     "text": [
      "95.53681454097351\n"
     ]
    }
   ],
   "source": [
    "#9\n",
    "att, comp, yds, td, intl = int(input()), int(input()), int(input()), int(input()), int(input())\n",
    "a = ((comp/att - 0.3) * 5)\n",
    "b = ((yds/att - 3) * 0.25)\n",
    "c = ((td/att) * 20)\n",
    "d = 2.375 - 25 * (intl/att)\n",
    "print((a + b + c + d) / 6 * 100)"
   ]
  },
  {
   "cell_type": "code",
   "execution_count": 10,
   "metadata": {},
   "outputs": [
    {
     "name": "stdout",
     "output_type": "stream",
     "text": [
      "1\n"
     ]
    }
   ],
   "source": [
    "#10\n",
    "line = input().split()\n",
    "x = int(line[0])\n",
    "\n",
    "if y%x==0 or x%y==0:\n",
    "    print(1)\n",
    "else:\n",
    "    print(0)"
   ]
  },
  {
   "cell_type": "code",
   "execution_count": 15,
   "metadata": {},
   "outputs": [
    {
     "name": "stdout",
     "output_type": "stream",
     "text": [
      "1 30\n"
     ]
    }
   ],
   "source": [
    "#11\n",
    "n = int(input())\n",
    "print(n//30, (n - (n//30)*30)*2)"
   ]
  },
  {
   "cell_type": "code",
   "execution_count": 14,
   "metadata": {},
   "outputs": [
    {
     "name": "stdout",
     "output_type": "stream",
     "text": [
      "Год: 2025, Месяц: 2, День: 21\n"
     ]
    }
   ],
   "source": [
    "#12\n",
    "from datetime import date\n",
    "print(f\"Год: {date.today().year}, Месяц: {date.today().month}, День: {date.today().day}\")\n"
   ]
  },
  {
   "cell_type": "code",
   "execution_count": 27,
   "metadata": {},
   "outputs": [
    {
     "name": "stdout",
     "output_type": "stream",
     "text": [
      "страница 2 стоблец 3 строка 5\n"
     ]
    }
   ],
   "source": [
    "#13\n",
    "import math \n",
    "n, c, record = int(input()), int(input()), int(input())\n",
    "page = math.ceil(record/(n*c))\n",
    "column = math.ceil((record - n*c)/n)\n",
    "line = (record - n*c - (column-1)*n)\n",
    "print(f'страница {page} стоблец {column} строка {line}')"
   ]
  }
 ],
 "metadata": {
  "kernelspec": {
   "display_name": "Python 3",
   "language": "python",
   "name": "python3"
  },
  "language_info": {
   "codemirror_mode": {
    "name": "ipython",
    "version": 3
   },
   "file_extension": ".py",
   "mimetype": "text/x-python",
   "name": "python",
   "nbconvert_exporter": "python",
   "pygments_lexer": "ipython3",
   "version": "3.11.0"
  }
 },
 "nbformat": 4,
 "nbformat_minor": 2
}
