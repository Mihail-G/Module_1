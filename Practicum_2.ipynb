{
 "cells": [
  {
   "cell_type": "code",
   "execution_count": 1,
   "metadata": {},
   "outputs": [
    {
     "name": "stdout",
     "output_type": "stream",
     "text": [
      "136\n"
     ]
    }
   ],
   "source": [
    "#1\n",
    "total_cost = int(input(\"Какая общая стоимость часов, проданных мастером?\"))\n",
    "quantity_silver_clock = 96\n",
    "quantity_gold_clock = quantity_silver_clock//16\n",
    "silver_clock_price = 48\n",
    "print((total_cost - silver_clock_price * quantity_silver_clock)//quantity_gold_clock)"
   ]
  },
  {
   "cell_type": "code",
   "execution_count": 6,
   "metadata": {},
   "outputs": [
    {
     "name": "stdout",
     "output_type": "stream",
     "text": [
      "Сан\n",
      "Марино\n"
     ]
    }
   ],
   "source": [
    "#2\n",
    "for i in input(\"Какую страну посетил Никита?\").split():\n",
    "    print(i)"
   ]
  },
  {
   "cell_type": "code",
   "execution_count": 9,
   "metadata": {},
   "outputs": [
    {
     "name": "stdout",
     "output_type": "stream",
     "text": [
      "514\n"
     ]
    }
   ],
   "source": [
    "#3\n",
    "numbers = list(map(int, input().split()))\n",
    "print(numbers[0]+numbers[1])"
   ]
  },
  {
   "cell_type": "code",
   "execution_count": 13,
   "metadata": {},
   "outputs": [
    {
     "name": "stdout",
     "output_type": "stream",
     "text": [
      "399\n"
     ]
    }
   ],
   "source": [
    "#4\n",
    "bags = 7\n",
    "cat  = bags*7\n",
    "kitten = cat*7\n",
    "print(bags + cat + kitten)"
   ]
  },
  {
   "cell_type": "code",
   "execution_count": 2,
   "metadata": {},
   "outputs": [
    {
     "name": "stdout",
     "output_type": "stream",
     "text": [
      "5222968.37\n"
     ]
    }
   ],
   "source": [
    "#5\n",
    "print(round(float(input(\"Плановая сумма общего объема продаж\"))*0.19, 2))"
   ]
  },
  {
   "cell_type": "code",
   "execution_count": 7,
   "metadata": {},
   "outputs": [
    {
     "name": "stdout",
     "output_type": "stream",
     "text": [
      "21.37\n"
     ]
    }
   ],
   "source": [
    "#6\n",
    "coefficient = 703\n",
    "weight = int(input())\n",
    "height = int(input())\n",
    "print(round((weight/height**2)*coefficient, 2))"
   ]
  },
  {
   "cell_type": "code",
   "execution_count": 8,
   "metadata": {},
   "outputs": [
    {
     "name": "stdout",
     "output_type": "stream",
     "text": [
      "100.0\n"
     ]
    }
   ],
   "source": [
    "#7\n",
    "level = 1 #cm\n",
    "square = 1 #hectare\n",
    "print((square*10000)*(level/100)) #m3"
   ]
  },
  {
   "cell_type": "code",
   "execution_count": 5,
   "metadata": {},
   "outputs": [
    {
     "name": "stdout",
     "output_type": "stream",
     "text": [
      "11\n"
     ]
    }
   ],
   "source": [
    "#8\n",
    "string = list(map(int, input().split()))\n",
    "n, m = string[0], string[1]\n",
    "print(m//(n+1))"
   ]
  },
  {
   "cell_type": "code",
   "execution_count": 7,
   "metadata": {},
   "outputs": [
    {
     "name": "stdout",
     "output_type": "stream",
     "text": [
      "3\n"
     ]
    }
   ],
   "source": [
    "#9\n",
    "n, k = int(input()), int(input())\n",
    "print(n-(n//k)*k)"
   ]
  },
  {
   "cell_type": "code",
   "execution_count": 10,
   "metadata": {},
   "outputs": [
    {
     "name": "stdout",
     "output_type": "stream",
     "text": [
      "1\n"
     ]
    }
   ],
   "source": [
    "#10\n",
    "print(int(input(\"Сколько метров преодолела Фейт Коннорс?\"))//1656)"
   ]
  }
 ],
 "metadata": {
  "kernelspec": {
   "display_name": "Python 3",
   "language": "python",
   "name": "python3"
  },
  "language_info": {
   "codemirror_mode": {
    "name": "ipython",
    "version": 3
   },
   "file_extension": ".py",
   "mimetype": "text/x-python",
   "name": "python",
   "nbconvert_exporter": "python",
   "pygments_lexer": "ipython3",
   "version": "3.11.0"
  }
 },
 "nbformat": 4,
 "nbformat_minor": 2
}
